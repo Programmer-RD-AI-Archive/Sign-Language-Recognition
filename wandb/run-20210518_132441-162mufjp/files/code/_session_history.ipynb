{
 "cells": [
  {
   "cell_type": "code",
   "execution_count": 1,
   "metadata": {},
   "outputs": [],
   "source": [
    "NAME = \"change the conv2d\""
   ]
  },
  {
   "cell_type": "code",
   "execution_count": 2,
   "metadata": {},
   "outputs": [],
   "source": [
    "BATCH_SIZE = 32"
   ]
  },
  {
   "cell_type": "code",
   "execution_count": 3,
   "metadata": {},
   "outputs": [],
   "source": [
    "import os\n",
    "import cv2\n",
    "import torch\n",
    "import numpy as np"
   ]
  },
  {
   "cell_type": "code",
   "execution_count": 4,
   "metadata": {},
   "outputs": [],
   "source": [
    "def load_data(img_size=112):\n",
    "    data = []\n",
    "    index = -1\n",
    "    labels = {}\n",
    "    for directory in os.listdir('./data/'):\n",
    "        index += 1\n",
    "        labels[f'./data/{directory}/'] = [index,-1]\n",
    "    print(len(labels))\n",
    "    for label in labels:\n",
    "        for file in os.listdir(label):\n",
    "            filepath = label + file\n",
    "            img = cv2.imread(filepath,cv2.IMREAD_GRAYSCALE)\n",
    "            img = cv2.resize(img,(img_size,img_size))\n",
    "            img = img / 255.0\n",
    "            data.append([\n",
    "                np.array(img),\n",
    "                labels[label][0]\n",
    "            ])\n",
    "            labels[label][1] += 1\n",
    "    for _ in range(12):\n",
    "        np.random.shuffle(data)\n",
    "    print(len(data))\n",
    "    np.save('./data.npy',data)\n",
    "    return data"
   ]
  },
  {
   "cell_type": "code",
   "execution_count": 5,
   "metadata": {},
   "outputs": [],
   "source": [
    "import torch"
   ]
  },
  {
   "cell_type": "code",
   "execution_count": 6,
   "metadata": {},
   "outputs": [],
   "source": [
    "def other_loading_data_proccess(data):\n",
    "    X = []\n",
    "    y = []\n",
    "    print('going through the data..')\n",
    "    for d in data:\n",
    "        X.append(d[0])\n",
    "        y.append(d[1])\n",
    "    print('splitting the data')\n",
    "    VAL_SPLIT = 0.25\n",
    "    VAL_SPLIT = len(X)*VAL_SPLIT\n",
    "    VAL_SPLIT = int(VAL_SPLIT)\n",
    "    X_train = X[:-VAL_SPLIT]\n",
    "    y_train = y[:-VAL_SPLIT]\n",
    "    X_test = X[-VAL_SPLIT:]\n",
    "    y_test = y[-VAL_SPLIT:]\n",
    "    print('turning data to tensors')\n",
    "    X_train = torch.from_numpy(np.array(X_train))\n",
    "    y_train = torch.from_numpy(np.array(y_train))\n",
    "    X_test = torch.from_numpy(np.array(X_test))\n",
    "    y_test = torch.from_numpy(np.array(y_test))\n",
    "    return [X_train,X_test,y_train,y_test]"
   ]
  },
  {
   "cell_type": "code",
   "execution_count": 7,
   "metadata": {},
   "outputs": [],
   "source": [
    "REBUILD_DATA = True\n",
    "if REBUILD_DATA:\n",
    "    data = load_data()\n",
    "    np.random.shuffle(data)\n",
    "    X_train,X_test,y_train,y_test = other_loading_data_proccess(data)"
   ]
  },
  {
   "cell_type": "code",
   "execution_count": 8,
   "metadata": {},
   "outputs": [],
   "source": [
    "import torch\n",
    "import torch.nn as nn"
   ]
  },
  {
   "cell_type": "code",
   "execution_count": 9,
   "metadata": {},
   "outputs": [],
   "source": [
    "import torch.nn.functional as F"
   ]
  },
  {
   "cell_type": "code",
   "execution_count": 10,
   "metadata": {},
   "outputs": [],
   "source": [
    "# class Test_Model(nn.Module):\n",
    "#     def __init__(self):\n",
    "#         super().__init__()\n",
    "#         self.conv1 = nn.Conv2d(1, 6, 5)\n",
    "#         self.pool = nn.MaxPool2d(2, 2)\n",
    "#         self.conv2 = nn.Conv2d(6, 16, 5)\n",
    "#         self.fc1 = nn.Linear(16 * 25 * 25, 120)\n",
    "#         self.fc2 = nn.Linear(120, 84)\n",
    "#         self.fc3 = nn.Linear(84, 36)\n",
    "\n",
    "#     def forward(self, x):\n",
    "#         x = self.pool(F.relu(self.conv1(x)))\n",
    "#         x = self.pool(F.relu(self.conv2(x)))\n",
    "#         x = x.view(-1, 16 * 25 * 25)\n",
    "#         x = F.relu(self.fc1(x))\n",
    "#         x = F.relu(self.fc2(x))\n",
    "#         x = self.fc3(x)\n",
    "#         return x"
   ]
  },
  {
   "cell_type": "code",
   "execution_count": 11,
   "metadata": {},
   "outputs": [],
   "source": [
    "class Test_Model(nn.Module):\n",
    "    def __init__(self):\n",
    "        super().__init__()\n",
    "        self.pool = nn.MaxPool2d(2, 2)\n",
    "        self.conv1 = nn.Conv2d(1, 32, 5)\n",
    "        self.conv3 = nn.Conv2d(32,64,5)\n",
    "        self.conv2 = nn.Conv2d(64, 128, 5)\n",
    "        self.fc1 = nn.Linear(128 * 10 * 10, 512)\n",
    "        self.fc2 = nn.Linear(512, 256)\n",
    "        self.fc4 = nn.Linear(256,128)\n",
    "        self.fc3 = nn.Linear(128, 36)\n",
    "\n",
    "    def forward(self, x,shape=False):\n",
    "        x = self.pool(F.relu(self.conv1(x)))\n",
    "        x = self.pool(F.relu(self.conv3(x)))\n",
    "        x = self.pool(F.relu(self.conv2(x)))\n",
    "        if shape:\n",
    "            print(x.shape)\n",
    "        x = x.view(-1, 128 * 10 * 10)\n",
    "        x = F.relu(self.fc1(x))\n",
    "        x = F.relu(self.fc2(x))\n",
    "        x = F.relu(self.fc4(x))\n",
    "        x = self.fc3(x)\n",
    "        return x"
   ]
  },
  {
   "cell_type": "code",
   "execution_count": 12,
   "metadata": {},
   "outputs": [],
   "source": [
    "device = torch.device('cuda')"
   ]
  },
  {
   "cell_type": "code",
   "execution_count": 13,
   "metadata": {},
   "outputs": [],
   "source": [
    "model = Test_Model().to(device)"
   ]
  },
  {
   "cell_type": "code",
   "execution_count": 14,
   "metadata": {},
   "outputs": [],
   "source": [
    "preds = model(X_test.reshape(-1,1,112,112).float().to(device),True)"
   ]
  },
  {
   "cell_type": "code",
   "execution_count": 15,
   "metadata": {},
   "outputs": [
    {
     "name": "stdout",
     "output_type": "stream",
     "text": [
      "tensor([-0.0191,  0.0632,  0.0395,  0.0232,  0.0519,  0.0292, -0.0144, -0.0203,\n",
      "        -0.0549, -0.0322,  0.0488,  0.0090,  0.0260,  0.0676, -0.0324, -0.0547,\n",
      "        -0.0621,  0.0834, -0.0553, -0.0824,  0.0712, -0.0096,  0.0318, -0.0321,\n",
      "         0.0182,  0.0848, -0.0889, -0.0406, -0.0251, -0.0363,  0.1071,  0.0589,\n",
      "        -0.0466,  0.0857, -0.0178, -0.0514], device='cuda:0',\n",
      "       grad_fn=<SelectBackward>)"
     ]
    }
   ],
   "source": [
    "preds[0]"
   ]
  },
  {
   "cell_type": "code",
   "execution_count": 16,
   "metadata": {},
   "outputs": [],
   "source": [
    "optimizer = torch.optim.SGD(model.parameters(),lr=0.1)\n",
    "criterion = nn.CrossEntropyLoss()"
   ]
  },
  {
   "cell_type": "code",
   "execution_count": 17,
   "metadata": {},
   "outputs": [],
   "source": [
    "EPOCHS = 5"
   ]
  },
  {
   "cell_type": "code",
   "execution_count": 18,
   "metadata": {},
   "outputs": [],
   "source": [
    "loss_logs = []"
   ]
  },
  {
   "cell_type": "code",
   "execution_count": 19,
   "metadata": {},
   "outputs": [],
   "source": [
    "from tqdm import tqdm"
   ]
  },
  {
   "cell_type": "code",
   "execution_count": 20,
   "metadata": {},
   "outputs": [],
   "source": [
    "PROJECT_NAME = \"Sign-Language-Recognition\""
   ]
  },
  {
   "cell_type": "code",
   "execution_count": 21,
   "metadata": {},
   "outputs": [],
   "source": [
    "def test(net,X,y):\n",
    "    correct = 0\n",
    "    total = 0\n",
    "    net.eval()\n",
    "    with torch.no_grad():\n",
    "        for i in range(len(X)):\n",
    "            real_class = torch.argmax(y[i]).to(device)\n",
    "            net_out = net(X[i].view(-1,1,112,112).to(device).float())\n",
    "            net_out = net_out[0]\n",
    "            predictied_class = torch.argmax(net_out)\n",
    "            if predictied_class == real_class:\n",
    "                correct += 1\n",
    "            total += 1\n",
    "    return round(correct/total,3)"
   ]
  },
  {
   "cell_type": "code",
   "execution_count": 22,
   "metadata": {},
   "outputs": [],
   "source": [
    "import wandb"
   ]
  },
  {
   "cell_type": "code",
   "execution_count": 23,
   "metadata": {},
   "outputs": [
    {
     "name": "stdout",
     "output_type": "stream",
     "text": [
      "36"
     ]
    }
   ],
   "source": [
    "len(os.listdir('./data/'))"
   ]
  },
  {
   "cell_type": "code",
   "execution_count": 24,
   "metadata": {},
   "outputs": [],
   "source": [
    "import random"
   ]
  },
  {
   "cell_type": "code",
   "execution_count": 25,
   "metadata": {},
   "outputs": [],
   "source": [
    "# index = random.randint(0,29)\n",
    "# print(index)\n",
    "# wandb.init(project=PROJECT_NAME,name=NAME)\n",
    "# for _ in tqdm(range(EPOCHS)):\n",
    "#     for i in range(0,len(X_train),BATCH_SIZE):\n",
    "#         X_batch = X_train[i:i+BATCH_SIZE].view(-1,1,112,112).to(device)\n",
    "#         y_batch = y_train[i:i+BATCH_SIZE].to(device)\n",
    "#         model.to(device)\n",
    "#         preds = model(X_batch.float())\n",
    "#         loss = criterion(preds,torch.tensor(y_batch,dtype=torch.long))\n",
    "#         optimizer.zero_grad()\n",
    "#         loss.backward()\n",
    "#         optimizer.step()\n",
    "#         wandb.log({'loss':loss.item(),'accuracy':test(model,X_train,y_train)*100,'val_accuracy':test(model,X_test,y_test)*100,'pred':torch.argmax(preds[index]),'real':torch.argmax(y_batch[index])})\n",
    "# wandb.finish()"
   ]
  },
  {
   "cell_type": "code",
   "execution_count": 26,
   "metadata": {},
   "outputs": [],
   "source": [
    "import matplotlib.pyplot as plt"
   ]
  },
  {
   "cell_type": "code",
   "execution_count": 27,
   "metadata": {},
   "outputs": [],
   "source": [
    "import pandas as pd"
   ]
  },
  {
   "cell_type": "code",
   "execution_count": 28,
   "metadata": {},
   "outputs": [],
   "source": [
    "df = pd.Series(loss_logs)"
   ]
  },
  {
   "cell_type": "code",
   "execution_count": 29,
   "metadata": {},
   "outputs": [
    {
     "name": "stdout",
     "output_type": "stream",
     "text": [
      "<AxesSubplot:>"
     ]
    }
   ],
   "source": [
    "df.plot.line(figsize=(12,6))"
   ]
  },
  {
   "cell_type": "code",
   "execution_count": 30,
   "metadata": {},
   "outputs": [
    {
     "name": "stdout",
     "output_type": "stream",
     "text": [
      "0.0"
     ]
    }
   ],
   "source": [
    "test(model,X_test,y_test)"
   ]
  },
  {
   "cell_type": "code",
   "execution_count": 31,
   "metadata": {},
   "outputs": [
    {
     "name": "stdout",
     "output_type": "stream",
     "text": [
      "0.0"
     ]
    }
   ],
   "source": [
    "test(model,X_train,y_train)"
   ]
  },
  {
   "cell_type": "code",
   "execution_count": 32,
   "metadata": {},
   "outputs": [
    {
     "name": "stdout",
     "output_type": "stream",
     "text": [
      "tensor([[-0.0191,  0.0632,  0.0395,  ...,  0.0857, -0.0178, -0.0514],\n",
      "        [-0.0194,  0.0627,  0.0399,  ...,  0.0855, -0.0175, -0.0516],\n",
      "        [-0.0196,  0.0631,  0.0394,  ...,  0.0856, -0.0178, -0.0506],\n",
      "        ...,\n",
      "        [-0.0193,  0.0633,  0.0396,  ...,  0.0854, -0.0180, -0.0509],\n",
      "        [-0.0184,  0.0624,  0.0386,  ...,  0.0853, -0.0176, -0.0514],\n",
      "        [-0.0195,  0.0630,  0.0395,  ...,  0.0859, -0.0184, -0.0514]],\n",
      "       device='cuda:0', grad_fn=<AddmmBackward>)"
     ]
    }
   ],
   "source": [
    "preds"
   ]
  },
  {
   "cell_type": "code",
   "execution_count": 33,
   "metadata": {},
   "outputs": [],
   "source": [
    "X_testing = X_train\n",
    "y_testing = y_train\n",
    "correct = 0\n",
    "total = 0\n",
    "model.eval()\n",
    "with torch.no_grad():\n",
    "    for i in range(len(X_testing)):\n",
    "        real_class = torch.argmax(y_testing[i]).to(device)\n",
    "        net_out = model(X_testing[i].view(-1,1,112,112).to(device).float())\n",
    "        net_out = net_out[0]\n",
    "        predictied_class = torch.argmax(net_out)\n",
    "#         print(predictied_class)\n",
    "        if str(predictied_class) == str(real_class):\n",
    "            correct += 1\n",
    "        total += 1\n",
    "print(round(correct/total,3))"
   ]
  },
  {
   "cell_type": "code",
   "execution_count": 34,
   "metadata": {},
   "outputs": [],
   "source": [
    "# for real,pred in zip(y_batch,preds):\n",
    "#     print(real)\n",
    "#     print(torch.argmax(pred))\n",
    "#     print('\\n')"
   ]
  },
  {
   "cell_type": "code",
   "execution_count": 35,
   "metadata": {},
   "outputs": [],
   "source": [
    "# conv2d_output\n",
    "# conv2d_1_ouput\n",
    "# conv2d_2_ouput\n",
    "# output_fc1\n",
    "# output_fc2\n",
    "# output_fc4\n",
    "# max_pool2d_keranl\n",
    "# max_pool2d\n",
    "# num_of_linear\n",
    "\n",
    "# activation\n",
    "# best num of epochs\n",
    "# best optimizer\n",
    "# best loss\n",
    "## best lr"
   ]
  },
  {
   "cell_type": "code",
   "execution_count": 36,
   "metadata": {},
   "outputs": [],
   "source": [
    "class Test_Model(nn.Module):\n",
    "    def __init__(self,conv2d_output=128,conv2d_1_ouput=32,conv2d_2_ouput=64,output_fc1=512,output_fc2=256,output_fc4=128,output=36,activation=F.relu,max_pool2d_keranl=2):\n",
    "        super().__init__()\n",
    "        print(conv2d_output)\n",
    "        print(conv2d_1_ouput)\n",
    "        print(conv2d_2_ouput)\n",
    "        print(output_fc1)\n",
    "        print(output_fc2)\n",
    "        print(output_fc4)\n",
    "        print(activation)\n",
    "        self.conv2d_output = conv2d_output\n",
    "        self.pool = nn.MaxPool2d(max_pool2d_keranl)\n",
    "        self.conv1 = nn.Conv2d(1, conv2d_1_ouput, 5)\n",
    "        self.conv3 = nn.Conv2d(conv2d_1_ouput,conv2d_2_ouput,5)\n",
    "        self.conv2 = nn.Conv2d(conv2d_2_ouput, conv2d_output, 5)\n",
    "        self.fc1 = nn.Linear(conv2d_output * 10 * 10, output_fc1)\n",
    "        self.fc2 = nn.Linear(output_fc1, output_fc2)\n",
    "        self.fc4 = nn.Linear(output_fc2,output_fc4)\n",
    "        self.fc3 = nn.Linear(output_fc4, output)\n",
    "        self.activation = activation\n",
    "\n",
    "    def forward(self, x,shape=False):\n",
    "        x = self.pool(self.activation(self.conv1(x)))\n",
    "        x = self.pool(self.activation(self.conv3(x)))\n",
    "        x = self.pool(self.activation(self.conv2(x)))\n",
    "        if shape:\n",
    "            print(x.shape)\n",
    "        x = x.view(-1, self.conv2d_output * 10 * 10)\n",
    "        x = self.activation(self.fc1(x))\n",
    "        x = self.activation(self.fc2(x))\n",
    "        x = self.activation(self.fc4(x))\n",
    "        x = self.fc3(x)\n",
    "        return x"
   ]
  },
  {
   "cell_type": "code",
   "execution_count": 37,
   "metadata": {},
   "outputs": [],
   "source": [
    "# conv2d_output\n",
    "# conv2d_1_ouput\n",
    "# conv2d_2_ouput\n",
    "# output_fc1\n",
    "# output_fc2\n",
    "# output_fc4\n",
    "# max_pool2d_keranl\n",
    "# max_pool2d\n",
    "# num_of_linear\n",
    "# best num of epochs\n",
    "# best loss\n",
    "## best lr\n",
    "# batch size"
   ]
  },
  {
   "cell_type": "code",
   "execution_count": 38,
   "metadata": {},
   "outputs": [],
   "source": [
    "EPOCHS = 3\n",
    "BATCH_SIZE = 32"
   ]
  },
  {
   "cell_type": "code",
   "execution_count": 39,
   "metadata": {},
   "outputs": [],
   "source": [
    "# activation = nn.SELU()\n",
    "# best optimizer = torch.optim.Adadelta\n",
    "# best loss = nn.CrossEntropyLoss\n",
    "## best lr = 0.625\n",
    "# conv2d_output = \n",
    "# conv2d_1_ouput = \n",
    "\n",
    "# conv2d_2_ouput\n",
    "# output_fc1\n",
    "# output_fc2\n",
    "# output_fc4\n",
    "# max_pool2d_keranl\n",
    "# max_pool2d\n",
    "# num_of_linear\n",
    "# best num of epochs"
   ]
  },
  {
   "cell_type": "code",
   "execution_count": 40,
   "metadata": {},
   "outputs": [],
   "source": [
    "def get_loss(criterion,y,model,X):\n",
    "    preds = model(X.view(-1,1,112,112).to(device).float())\n",
    "    preds.to(device)\n",
    "    loss = criterion(preds,torch.tensor(y,dtype=torch.long).to(device))\n",
    "    loss.backward()\n",
    "    return loss.item()"
   ]
  },
  {
   "cell_type": "code",
   "execution_count": 41,
   "metadata": {},
   "outputs": [
    {
     "data": {
      "text/html": [
       "\n",
       "                Tracking run with wandb version 0.10.30<br/>\n",
       "                Syncing run <strong style=\"color:#cdcd00\">conv2d_1_ouputs-32</strong> to <a href=\"https://wandb.ai\" target=\"_blank\">Weights & Biases</a> <a href=\"https://docs.wandb.com/integrations/jupyter.html\" target=\"_blank\">(Documentation)</a>.<br/>\n",
       "                Project page: <a href=\"https://wandb.ai/ranuga-d/Sign-Language-Recognition\" target=\"_blank\">https://wandb.ai/ranuga-d/Sign-Language-Recognition</a><br/>\n",
       "                Run page: <a href=\"https://wandb.ai/ranuga-d/Sign-Language-Recognition/runs/162mufjp\" target=\"_blank\">https://wandb.ai/ranuga-d/Sign-Language-Recognition/runs/162mufjp</a><br/>\n",
       "                Run data is saved locally in <code>/home/indika/Programming/Projects/Python/Artifical-Intelligence/PyTorch/CNN/American-Sign-Language-Recognition/wandb/run-20210518_132441-162mufjp</code><br/><br/>\n",
       "            "
      ],
      "text/plain": [
       "<IPython.core.display.HTML object>"
      ]
     },
     "metadata": {},
     "output_type": "display_data"
    }
   ],
   "source": [
    "conv2d_1_ouputs = [32,64,128,256,512]\n",
    "for conv2d_1_ouput in conv2d_1_ouputs:\n",
    "    model = Test_Model(activation=nn.SELU(),conv2d_1_ouput=conv2d_1_ouput)\n",
    "    optimizer = torch.optim.Adadelta(model.parameters(),lr=0.625)\n",
    "    criterion = nn.CrossEntropyLoss()\n",
    "    wandb.init(project=PROJECT_NAME,name=f'conv2d_1_ouputs-{conv2d_1_ouput}')\n",
    "    for _ in tqdm(range(EPOCHS)):\n",
    "        for i in range(0,len(X_train),BATCH_SIZE):\n",
    "            X_batch = X_train[i:i+BATCH_SIZE].view(-1,1,112,112).to(device)\n",
    "            y_batch = y_train[i:i+BATCH_SIZE].to(device)\n",
    "            model.to(device)\n",
    "            preds = model(X_batch.float())\n",
    "            loss = criterion(preds,torch.tensor(y_batch,dtype=torch.long))\n",
    "            optimizer.zero_grad()\n",
    "            loss.backward()\n",
    "            optimizer.step()\n",
    "            wandb.log({'loss':loss.item(),'accuracy':test(model,X_train,y_train)*100,'val_accuracy':test(model,X_test,y_test)*100,'val_loss':get_loss(criterion,y_test,model,X_test)})\n",
    "        print(f'{torch.argmax(preds[1])} \\n {y_batch[1]}')\n",
    "        print(f'{torch.argmax(preds[2])} \\n {y_batch[2]}')\n",
    "        print(f'{torch.argmax(preds[3])} \\n {y_batch[3]}')\n",
    "        print(f'{torch.argmax(preds[4])} \\n {y_batch[4]}')\n",
    "    wandb.finish()\n",
    "    torch.cuda.empty_cache()"
   ]
  }
 ],
 "metadata": {
  "kernelspec": {
   "display_name": "Python 3",
   "language": "python",
   "name": "python3"
  },
  "language_info": {
   "codemirror_mode": {
    "name": "ipython",
    "version": 3
   },
   "file_extension": ".py",
   "mimetype": "text/x-python",
   "name": "python",
   "nbconvert_exporter": "python",
   "pygments_lexer": "ipython3",
   "version": "3.7.3"
  }
 },
 "nbformat": 4,
 "nbformat_minor": 2
}
